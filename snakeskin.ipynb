{
  "cells": [
    {
      "cell_type": "markdown",
      "metadata": {
        "colab_type": "text",
        "id": "view-in-github"
      },
      "source": [
        "<a href=\"https://colab.research.google.com/github/vitroid/snakeskin/blob/main/snakeskin.ipynb\" target=\"_parent\"><img src=\"https://colab.research.google.com/assets/colab-badge.svg\" alt=\"Open In Colab\"/></a>\n"
      ]
    },
    {
      "cell_type": "code",
      "execution_count": null,
      "metadata": {
        "id": "lIz1s-mMTCDu"
      },
      "outputs": [],
      "source": [
        "import random\n",
        "from icecream import ic\n",
        "import matplotlib.pyplot as plt\n",
        "import numpy as np\n",
        "\n",
        "L = 64\n",
        "centers = [(x, y) for x in range(0, L, L // 4) for y in range(0, L, L // 4)]\n",
        "\n",
        "skin = np.zeros([L, L])\n",
        "\n",
        "queue = []\n",
        "for center in centers:\n",
        "    skin[center] = 1\n",
        "    queue.append(center)\n",
        "\n",
        "# for _ in range(40000):\n",
        "while len(queue):\n",
        "    i = random.choice(range(len(queue)))\n",
        "    point = queue.pop(i)\n",
        "    depth = skin[point]\n",
        "    assert depth > 0\n",
        "    x, y = point\n",
        "    for a in (-1, 0, 1):\n",
        "        for b in (-1, 0, 1):\n",
        "            if a + b == 0:\n",
        "                continue\n",
        "            xx = (x + a + L) % L\n",
        "            yy = (y + b + L) % L\n",
        "            if skin[xx, yy] == 0:\n",
        "                skin[xx, yy] = depth + 1\n",
        "                queue.append((xx, yy))\n",
        "dmax = np.max(skin)\n",
        "skin = (skin + dmax * 3 // 6) % dmax"
      ]
    },
    {
      "cell_type": "code",
      "execution_count": null,
      "metadata": {
        "id": "XcUOpGp_TCDv"
      },
      "outputs": [],
      "source": [
        "dskin = np.triu(skin) + np.triu(skin, k=1).T\n",
        "\n",
        "upper = np.triu(skin)\n",
        "lower = np.tril(skin)\n",
        "bigskin = np.zeros([L * 2, L * 2])\n",
        "bigskin[0:L, 0:L] = dskin\n",
        "bigskin[L : 2 * L, L : 2 * L] = dskin\n",
        "bigskin[0:L, L : 2 * L] = skin\n",
        "bigskin[L : 2 * L, :L] = skin.T"
      ]
    },
    {
      "cell_type": "code",
      "execution_count": null,
      "metadata": {
        "id": "LFwlwQYATCDv",
        "outputId": "9e869c7f-6906-4b17-a5d1-d69d6706ec68"
      },
      "outputs": [
        {
          "data": {
            "image/png": "[encoded data removed]",
            "text/plain": [
              "<Figure size 1000x1000 with 1 Axes>"
            ]
          },
          "metadata": {},
          "output_type": "display_data"
        }
      ],
      "source": [
        "# plt.imshow(skin, cmap=plt.cm.copper)\n",
        "fig, ax = plt.subplots(figsize=(10, 10))\n",
        "plt.pcolormesh(dskin, edgecolors=\"k\", linewidth=0.2, cmap=plt.cm.YlGnBu)\n",
        "plt.axis(\"equal\")\n",
        "plt.setp(ax.spines.values(), alpha=0)\n",
        "ax.axes.xaxis.set_ticks([])\n",
        "ax.axes.yaxis.set_ticks([])\n",
        "fig.savefig(\"python.png\")"
      ]
    },
    {
      "cell_type": "code",
      "execution_count": null,
      "metadata": {
        "id": "Jf-elY7yTCDv"
      },
      "outputs": [],
      "source": [
        "from PIL import Image\n",
        "\n",
        "\n",
        "def crop_center(pil_img):\n",
        "    img_width, img_height = pil_img.size\n",
        "    crop_width = img_width // 2\n",
        "    crop_height = img_height // 2\n",
        "    return pil_img.crop(\n",
        "        (\n",
        "            (img_width - crop_width) // 2,\n",
        "            (img_height - crop_height) // 2,\n",
        "            (img_width + crop_width) // 2,\n",
        "            (img_height + crop_height) // 2,\n",
        "        )\n",
        "    )\n",
        "\n",
        "\n",
        "im = Image.open(\"python.png\")\n",
        "rot = crop_center(im.rotate(45)).resize([L * 5, L * 7], resample=Image.LANCZOS)\n",
        "rot.show()\n",
        "rot.save(\"python_pat.png\")"
      ]
    },
    {
      "cell_type": "code",
      "execution_count": null,
      "metadata": {
        "id": "HhnO-eYPTCDv"
      },
      "outputs": [],
      "source": []
    }
  ],
  "metadata": {
    "colab": {
      "include_colab_link": true,
      "provenance": []
    },
    "kernelspec": {
      "display_name": ".venv",
      "language": "python",
      "name": "python3"
    },
    "language_info": {
      "codemirror_mode": {
        "name": "ipython",
        "version": 3
      },
      "file_extension": ".py",
      "mimetype": "text/x-python",
      "name": "python",
      "nbconvert_exporter": "python",
      "pygments_lexer": "ipython3",
      "version": "3.11.4"
    }
  },
  "nbformat": 4,
  "nbformat_minor": 0
}
